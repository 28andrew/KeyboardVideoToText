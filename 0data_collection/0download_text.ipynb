{
 "cells": [
  {
   "metadata": {
    "ExecuteTime": {
     "end_time": "2025-04-30T07:19:21.799299Z",
     "start_time": "2025-04-30T07:19:21.287407Z"
    }
   },
   "cell_type": "code",
   "source": [
    "import nltk\n",
    "nltk.download('punkt_tab')"
   ],
   "id": "e09bacd9171b84f6",
   "outputs": [
    {
     "name": "stderr",
     "output_type": "stream",
     "text": [
      "[nltk_data] Downloading package punkt_tab to\n",
      "[nltk_data]     /Users/andrewtran/nltk_data...\n",
      "[nltk_data]   Unzipping tokenizers/punkt_tab.zip.\n"
     ]
    },
    {
     "data": {
      "text/plain": [
       "True"
      ]
     },
     "execution_count": 3,
     "metadata": {},
     "output_type": "execute_result"
    }
   ],
   "execution_count": 3
  },
  {
   "metadata": {},
   "cell_type": "code",
   "outputs": [
    {
     "name": "stderr",
     "output_type": "stream",
     "text": [
      "[nltk_data] Downloading package reuters to\n",
      "[nltk_data]     /Users/andrewtran/nltk_data...\n",
      "[nltk_data]   Package reuters is already up-to-date!\n",
      "[nltk_data] Downloading package punkt to\n",
      "[nltk_data]     /Users/andrewtran/nltk_data...\n",
      "[nltk_data]   Package punkt is already up-to-date!\n"
     ]
    },
    {
     "name": "stdout",
     "output_type": "stream",
     "text": [
      "Saved Reuters corpus with one sentence per line to data/reuters21578_sentences.txt\n"
     ]
    }
   ],
   "execution_count": 4,
   "source": [
    "from nltk.corpus import reuters\n",
    "from nltk.tokenize import sent_tokenize\n",
    "import os\n",
    "\n",
    "# Download the Reuters corpus and tokenizer models if not already present\n",
    "nltk.download('reuters')\n",
    "nltk.download('punkt')\n",
    "\n",
    "# Combine all articles into a single text blob, removing original line breaks\n",
    "all_text = \"\"\n",
    "for fileid in reuters.fileids():\n",
    "    article = reuters.raw(fileid).replace('\\n', ' ').strip()\n",
    "    all_text += article + \" \"\n",
    "\n",
    "# Tokenize the full text into sentences\n",
    "sentences = sent_tokenize(all_text)\n",
    "\n",
    "# Save each sentence on its own line\n",
    "output_dir = \"data\"\n",
    "os.makedirs(output_dir, exist_ok=True)\n",
    "output_path = os.path.join(output_dir, \"reuters21578_sentences.txt\")\n",
    "\n",
    "with open(output_path, \"w\", encoding=\"utf-8\") as f:\n",
    "    for sentence in sentences:\n",
    "        f.write(sentence.strip() + \"\\n\")\n",
    "\n",
    "print(f\"Saved Reuters corpus with one sentence per line to {output_path}\")\n"
   ],
   "id": "initial_id"
  },
  {
   "metadata": {},
   "cell_type": "code",
   "outputs": [],
   "execution_count": null,
   "source": "",
   "id": "f4918908b67e555"
  }
 ],
 "metadata": {
  "kernelspec": {
   "display_name": "Python 3",
   "language": "python",
   "name": "python3"
  },
  "language_info": {
   "codemirror_mode": {
    "name": "ipython",
    "version": 2
   },
   "file_extension": ".py",
   "mimetype": "text/x-python",
   "name": "python",
   "nbconvert_exporter": "python",
   "pygments_lexer": "ipython2",
   "version": "2.7.6"
  }
 },
 "nbformat": 4,
 "nbformat_minor": 5
}
